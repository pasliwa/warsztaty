{
 "cells": [
  {
   "cell_type": "markdown",
   "metadata": {},
   "source": [
    "# Przygotowanie środowiska"
   ]
  },
  {
   "cell_type": "markdown",
   "metadata": {},
   "source": [
    "## Ściągnięcie notebooka\n",
    "\n",
    "1. ściągamy notebook wchodząc na https://github.com/pasliwa/warsztaty_czacki albo wpisujemy w terminalu git clone https://github.com/pasliwa/warsztaty_czacki\n",
    "2. wówczas w folderze warsztaty powinniśmy mieć wszystkie niezbędne pliki, w tym ten \n",
    "\n",
    "## Przydatne informacje\n",
    "\n",
    "+ klikając [SHIFT] + [ENTER] wykonujemy kod zawarty w danej komórce - Python jest językiem interpretowanym, nie musi być kompilowany tak jak C++, więc wykonuje się na bieżąco\n",
    "+ gdy komórka po lewej stronie ma zielony pasek - jesteśmy w trybie edycji, gdy niebieski - w trybie wykonywania\n",
    "+ pomiędzy komórkami przemieszczamy się myszką lub strzałkami w trybie niebieskim\n",
    "\n",
    "## Wykonaj poniższy kod\n",
    "### Niezbędne pakiety\n",
    "\n",
    "Dzięki niemu sprawdzimy, czy wszyscy mamy niezbędne pakiety"
   ]
  },
  {
   "cell_type": "code",
   "execution_count": null,
   "metadata": {},
   "outputs": [],
   "source": [
    "from __future__ import print_function\n",
    "from distutils.version import LooseVersion as Version\n",
    "import sys\n",
    "\n",
    "OK = '[ OK ]'\n",
    "FAIL = '[BRAK]'\n",
    "\n",
    "try:\n",
    "    import importlib\n",
    "except ImportError:\n",
    "    print(FAIL, \"Python version 3.4 (or 2.7) is required,\"\n",
    "                \" but %s is installed.\" % sys.version)\n",
    "\n",
    "    \n",
    "def import_version(pkg, min_ver, fail_msg=\"\"):\n",
    "    mod = None\n",
    "    try:\n",
    "        mod = importlib.import_module(pkg)\n",
    "        if pkg in {'PIL'}:\n",
    "            ver = mod.VERSION\n",
    "        else:\n",
    "            ver = mod.__version__\n",
    "        if Version(ver) < min_ver:\n",
    "            print(FAIL, \"%s version %s or higher required, but %s installed.\"\n",
    "                  % (lib, min_ver, ver))\n",
    "        else:\n",
    "            print(OK, '%s version %s' % (pkg, ver))\n",
    "    except ImportError:\n",
    "        print(FAIL, '%s not installed. %s' % (pkg, fail_msg))\n",
    "    return mod\n",
    "\n",
    "\n",
    "# first check the python version\n",
    "print('Używamy pythona z', sys.prefix)\n",
    "print(sys.version)\n",
    "pyversion = Version(sys.version)\n",
    "if pyversion >= \"3\":\n",
    "    if pyversion < \"3.4\":\n",
    "        print(FAIL, \"Python version 3.4 (or 2.7) is required,\"\n",
    "                    \" but %s is installed.\" % sys.version)\n",
    "else:\n",
    "    print(FAIL, \"Unknown Python version: %s\" % sys.version)\n",
    "\n",
    "print()\n",
    "requirements = {'numpy': \"1.6.1\", 'scipy': \"0.9\", 'matplotlib': \"1.0\",\n",
    "                'IPython': \"3.0\", 'sklearn': \"0.18\", 'pandas': \"0.19\",\n",
    "                'ipywidgets': '6.0'}\n",
    "\n",
    "extra_requirements = {'PIL': \"1.1.7\", 'seaborn': \"0.8.1\"}\n",
    "\n",
    "# now the dependencies\n",
    "\n",
    "print(\"\\nNiezbędne pakiety:\\n\")\n",
    "\n",
    "for lib, required_version in list(requirements.items()):\n",
    "    import_version(lib, required_version)\n",
    "    \n",
    "print(\"\\nPrzydatne, ale nie niezbędne pakiety:\\n\")\n",
    "for lib, required_version in list(extra_requirements.items()):\n",
    "    import_version(lib, required_version)"
   ]
  },
  {
   "cell_type": "markdown",
   "metadata": {},
   "source": [
    "### Sprawdzenie działania matplotliba - biblioteki do rysowania wykresów "
   ]
  },
  {
   "cell_type": "code",
   "execution_count": null,
   "metadata": {},
   "outputs": [],
   "source": [
    "import matplotlib as mpl\n",
    "%matplotlib inline\n",
    "import matplotlib.pyplot as plt\n",
    "import numpy as np\n",
    "\n",
    "x = np.linspace(0, 10, 1000)\n",
    "plt.plot(x, np.sin(x))\n",
    "plt.show()"
   ]
  }
 ],
 "metadata": {
  "kernelspec": {
   "display_name": "Python 3",
   "language": "python",
   "name": "python3"
  },
  "language_info": {
   "codemirror_mode": {
    "name": "ipython",
    "version": 3
   },
   "file_extension": ".py",
   "mimetype": "text/x-python",
   "name": "python",
   "nbconvert_exporter": "python",
   "pygments_lexer": "ipython3",
   "version": "3.6.4"
  }
 },
 "nbformat": 4,
 "nbformat_minor": 2
}
