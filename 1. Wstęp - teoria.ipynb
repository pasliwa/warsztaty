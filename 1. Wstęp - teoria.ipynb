{
 "cells": [
  {
   "cell_type": "markdown",
   "metadata": {},
   "source": [
    "# Wstęp do uczenia maszynowego\n",
    "\n",
    "W uczeniu maszynowym chcemy wyciągnąć z danych, które mamy, jak najwięcej informacji i umieć na podstawie posiadanych przez nas danych przewidywać, co wydarzy się w nieznanych dotychczas sytuacjach (np. w przyszłości).\n",
    "\n",
    "W najprostszym podziale uczenia maszynowego wyróżniamy:\n",
    "\n",
    "+ uczenie pod nadzorem (supervised)\n",
    "+ uczenie bez nadzoru (unsupervised)\n",
    "\n",
    "(można jeszcze mówić o uczeniu przez wzmocnienie [reinforcement learning] albo o semisupervised learning, ale nie będziemy o nich dzisiaj wspominać)\n",
    "\n",
    "## Uczenie pod nadzorem - zamysł\n",
    "\n",
    "\n",
    "Chcąc zamodelować jakiś proces musimy posiadać dane na jego temat - obserwacje zdarzeń dziejących się w danym modelu. Np. kiedy chcemy modelować poziom złośliwości nowotworu (mierzony np. czasem śmierci od pierwszej diagnozy), potrzebujemy danych pacjentów - np. rozmiaru nowotworu, informacji na temat tego, które mutacje wystąpiły, informacja na temat przerzutów, itp.\n",
    "\n",
    "1. Zbieramy dane - czyli np. z archiwów z danymi pacjentów zbieramy informacje na interesujący nas temat.\n",
    "2. Dla każdego pacjenta mamy pełen zestaw danych (bo to archiwa) - jego dane i wynik - ile przeżył od momentu diagnozy.\n",
    "\n",
    "\n",
    "Chcemy stworzyć model, dzięki któremu będziemy w stanie przewidywać dla nowych pacjentów, ile miesięcy przeżyją."
   ]
  },
  {
   "cell_type": "markdown",
   "metadata": {},
   "source": [
    "<img src=\"figures/supervised_workflow.svg\" width=\"80%\">"
   ]
  },
  {
   "cell_type": "markdown",
   "metadata": {},
   "source": [
    "### Zbiór treningowy i testowy\n",
    "\n",
    "Chcemy mieć możliwość ewaluacji, oceny naszego modelu przed wypuszczeniem go w świat - zatem z naszych archiwów wydzielmy sobie dwa zbiory: \n",
    "\n",
    "+ treningowy - ten, który posłuży nam do stworzenia modelu, wybrania jego parametrów, etc. \n",
    "+ testowy - ten, który pomoże nam ustalić, jak radzimy sobie na nieznanych (podczas trenowania) danych\n",
    "\n",
    "Zbiór testowy jest nietykalny - używamy go na samym końcu, po znormalizowaniu danych, wyuczeniu itp., żeby sprawdzić, jak radzi sobie model, na który się zdecydowaliśmy i który wytrenowaliśmy."
   ]
  },
  {
   "cell_type": "markdown",
   "metadata": {},
   "source": [
    "<img src=\"figures/train_test_split_matrix.svg\" width=\"80%\">"
   ]
  },
  {
   "cell_type": "markdown",
   "metadata": {},
   "source": [
    "W scikit-learnie - czyli pakiecie, który będziemy wykorzystywać tak właśnie reprezentuje się dane:\n",
    "+ X to ** dwuwymiarowy array z numpy** (czyli macierz) o kształcie `[n_obserwacji, n_cech]`\n",
    "+ y to wektor z przewidywanymi wartościami (też jako numpy array)"
   ]
  },
  {
   "cell_type": "markdown",
   "metadata": {},
   "source": [
    "## Uczenie bez nadzoru - zamysł\n",
    "\n",
    "Tutaj problem jest trochę inny - chcemy poznać strukturę danych. Pozostając w świecie onkologii, możemy wyobrazić sobie sytuację, kiedy zebraliśmy dużo danych z różnych nowotworów i teraz chcielibyśmy dowiedzieć się, ile typów nowotworów można wyróżnić w naszym zbiorze."
   ]
  },
  {
   "cell_type": "markdown",
   "metadata": {},
   "source": [
    "<img src=\"figures/clustering.png\" width=\"90%\">"
   ]
  },
  {
   "cell_type": "markdown",
   "metadata": {},
   "source": [
    "## Uproszczona klasyfikacja uczenia maszynowego\n",
    "\n",
    "<img src=\"figures/ml_taxonomy.png\" width=\"80%\">"
   ]
  },
  {
   "cell_type": "markdown",
   "metadata": {},
   "source": [
    "Przejdźmy do praktycznego zastosowania"
   ]
  }
 ],
 "metadata": {
  "kernelspec": {
   "display_name": "Python 3",
   "language": "python",
   "name": "python3"
  },
  "language_info": {
   "codemirror_mode": {
    "name": "ipython",
    "version": 3
   },
   "file_extension": ".py",
   "mimetype": "text/x-python",
   "name": "python",
   "nbconvert_exporter": "python",
   "pygments_lexer": "ipython3",
   "version": "3.6.4"
  }
 },
 "nbformat": 4,
 "nbformat_minor": 2
}
